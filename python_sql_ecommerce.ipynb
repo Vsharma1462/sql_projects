{
 "cells": [
  {
   "cell_type": "code",
   "execution_count": 25,
   "id": "8a477f7e-f642-471d-883c-16866bd870e2",
   "metadata": {},
   "outputs": [],
   "source": [
    "import mysql.connector\n",
    "import pandas as pd\n",
    "import matplotlib.pyplot as plt\n",
    "import seaborn as sns\n",
    "import numpy"
   ]
  },
  {
   "cell_type": "code",
   "execution_count": 5,
   "id": "a7925918-773c-4954-bcf7-4d82a9751bf9",
   "metadata": {},
   "outputs": [],
   "source": [
    "db=mysql.connector.connect(\n",
    "    host='127.0.0.1',\n",
    "    user='root',\n",
    "    password='pass@123',\n",
    "    database='ecommerce'\n",
    ")\n",
    "cur = db.cursor()"
   ]
  },
  {
   "cell_type": "markdown",
   "id": "d91feb7e-3958-4ba2-8440-bbcff1daac3f",
   "metadata": {},
   "source": [
    "# List all unique cities where customers are located."
   ]
  },
  {
   "cell_type": "code",
   "execution_count": 90,
   "id": "dada7af6-4da7-4af8-a5c7-e4ed2bb051b4",
   "metadata": {},
   "outputs": [
    {
     "data": {
      "text/html": [
       "<div>\n",
       "<style scoped>\n",
       "    .dataframe tbody tr th:only-of-type {\n",
       "        vertical-align: middle;\n",
       "    }\n",
       "\n",
       "    .dataframe tbody tr th {\n",
       "        vertical-align: top;\n",
       "    }\n",
       "\n",
       "    .dataframe thead th {\n",
       "        text-align: right;\n",
       "    }\n",
       "</style>\n",
       "<table border=\"1\" class=\"dataframe\">\n",
       "  <thead>\n",
       "    <tr style=\"text-align: right;\">\n",
       "      <th></th>\n",
       "      <th>0</th>\n",
       "    </tr>\n",
       "  </thead>\n",
       "  <tbody>\n",
       "    <tr>\n",
       "      <th>0</th>\n",
       "      <td>franca</td>\n",
       "    </tr>\n",
       "    <tr>\n",
       "      <th>1</th>\n",
       "      <td>sao bernardo do campo</td>\n",
       "    </tr>\n",
       "    <tr>\n",
       "      <th>2</th>\n",
       "      <td>sao paulo</td>\n",
       "    </tr>\n",
       "    <tr>\n",
       "      <th>3</th>\n",
       "      <td>mogi das cruzes</td>\n",
       "    </tr>\n",
       "    <tr>\n",
       "      <th>4</th>\n",
       "      <td>campinas</td>\n",
       "    </tr>\n",
       "  </tbody>\n",
       "</table>\n",
       "</div>"
      ],
      "text/plain": [
       "                       0\n",
       "0                 franca\n",
       "1  sao bernardo do campo\n",
       "2              sao paulo\n",
       "3        mogi das cruzes\n",
       "4               campinas"
      ]
     },
     "execution_count": 90,
     "metadata": {},
     "output_type": "execute_result"
    }
   ],
   "source": [
    "query=\"\"\"select distinct customer_city from customers\"\"\"\n",
    "cur.execute(query)\n",
    "data=cur.fetchall()\n",
    "df=pd.DataFrame(data)\n",
    "df.head()"
   ]
  },
  {
   "cell_type": "markdown",
   "id": "44e8d8e3-f57f-40fa-99fd-bfa2408c7fac",
   "metadata": {},
   "source": [
    "# Count the number of orders placed in 2017"
   ]
  },
  {
   "cell_type": "code",
   "execution_count": 26,
   "id": "2842fe08-c07c-45c5-8a5e-26d917b74793",
   "metadata": {},
   "outputs": [
    {
     "data": {
      "text/plain": [
       "45101"
      ]
     },
     "execution_count": 26,
     "metadata": {},
     "output_type": "execute_result"
    }
   ],
   "source": [
    "query1=\"\"\"select count(order_id) from orders where year(order_purchase_timestamp)=2017\"\"\"\n",
    "cur.execute(query1)\n",
    "data=cur.fetchall()\n",
    "data[0][0]"
   ]
  },
  {
   "cell_type": "markdown",
   "id": "4fc4730c-7803-4478-a0bd-4500ffc99bef",
   "metadata": {},
   "source": [
    "Find the total sales per category."
   ]
  },
  {
   "cell_type": "code",
   "execution_count": 92,
   "id": "ea41debd-d107-4f43-bab7-28036ece9082",
   "metadata": {},
   "outputs": [
    {
     "data": {
      "text/html": [
       "<div>\n",
       "<style scoped>\n",
       "    .dataframe tbody tr th:only-of-type {\n",
       "        vertical-align: middle;\n",
       "    }\n",
       "\n",
       "    .dataframe tbody tr th {\n",
       "        vertical-align: top;\n",
       "    }\n",
       "\n",
       "    .dataframe thead th {\n",
       "        text-align: right;\n",
       "    }\n",
       "</style>\n",
       "<table border=\"1\" class=\"dataframe\">\n",
       "  <thead>\n",
       "    <tr style=\"text-align: right;\">\n",
       "      <th></th>\n",
       "      <th>category</th>\n",
       "      <th>sales</th>\n",
       "    </tr>\n",
       "  </thead>\n",
       "  <tbody>\n",
       "    <tr>\n",
       "      <th>0</th>\n",
       "      <td>PERFUMERY</td>\n",
       "      <td>506738.66</td>\n",
       "    </tr>\n",
       "    <tr>\n",
       "      <th>1</th>\n",
       "      <td>FURNITURE DECORATION</td>\n",
       "      <td>1430176.39</td>\n",
       "    </tr>\n",
       "    <tr>\n",
       "      <th>2</th>\n",
       "      <td>TELEPHONY</td>\n",
       "      <td>486882.05</td>\n",
       "    </tr>\n",
       "    <tr>\n",
       "      <th>3</th>\n",
       "      <td>BED TABLE BATH</td>\n",
       "      <td>1712553.67</td>\n",
       "    </tr>\n",
       "    <tr>\n",
       "      <th>4</th>\n",
       "      <td>AUTOMOTIVE</td>\n",
       "      <td>852294.33</td>\n",
       "    </tr>\n",
       "  </tbody>\n",
       "</table>\n",
       "</div>"
      ],
      "text/plain": [
       "               category       sales\n",
       "0             PERFUMERY   506738.66\n",
       "1  FURNITURE DECORATION  1430176.39\n",
       "2             TELEPHONY   486882.05\n",
       "3        BED TABLE BATH  1712553.67\n",
       "4            AUTOMOTIVE   852294.33"
      ]
     },
     "execution_count": 92,
     "metadata": {},
     "output_type": "execute_result"
    }
   ],
   "source": [
    "query2=\"\"\"select upper(p.product_category) as category,round(sum(py.payment_value),2) as sales\n",
    "from products p \n",
    "join order_items oi on p.product_id=oi.product_id\n",
    "join payments py on oi.order_id=py.order_id\n",
    "group by p.product_category\"\"\"\n",
    "cur.execute(query2)\n",
    "data=cur.fetchall()\n",
    "df =pd.DataFrame(data,columns=[\"category\",\"sales\"])\n",
    "df.head()"
   ]
  },
  {
   "cell_type": "markdown",
   "id": "2ba5e310-9f77-4110-aa65-e68314eb5518",
   "metadata": {},
   "source": [
    "# Calculate the percentage of orders that were paid in installments."
   ]
  },
  {
   "cell_type": "code",
   "execution_count": 48,
   "id": "d66099ae-7154-4ef7-8986-336f3a877bed",
   "metadata": {},
   "outputs": [
    {
     "data": {
      "text/plain": [
       "('pecentalte of sales on installments', Decimal('49.4176'))"
      ]
     },
     "execution_count": 48,
     "metadata": {},
     "output_type": "execute_result"
    }
   ],
   "source": [
    "query4=\"\"\"select (sum(\n",
    "case\n",
    "     when payment_installments >1 then 1 \n",
    "else 0\n",
    "end\n",
    "))/count(*)*100 from payments\"\"\"\n",
    "cur.execute(query4)\n",
    "data=cur.fetchall()\n",
    "\"pecentalte of sales on installments\",data[0][0]"
   ]
  },
  {
   "cell_type": "markdown",
   "id": "25be0e98-3972-4b3b-807d-a5a26a1db0fb",
   "metadata": {},
   "source": [
    "# Count the number of customers from each state."
   ]
  },
  {
   "cell_type": "code",
   "execution_count": 148,
   "id": "0da9aece-46cf-4a45-ac69-6bf25e25a7a6",
   "metadata": {},
   "outputs": [
    {
     "data": {
      "image/png": "[encoded data removed]",
      "text/plain": [
       "<Figure size 800x200 with 1 Axes>"
      ]
     },
     "metadata": {},
     "output_type": "display_data"
    }
   ],
   "source": [
    "query5=\"\"\"select  customer_state, count(customer_id) as customers from customers  group by customer_state\"\"\"\n",
    "cur.execute(query5)\n",
    "data=cur.fetchall()\n",
    "df=pd.DataFrame(data,columns=[\"customer_state\",\"customers\"])\n",
    "df=df.sort_values(by=\"customers\",ascending=False)\n",
    "plt.figure(figsize=(8,2))\n",
    "plt.bar(df[\"customer_state\"],df[\"customers\"])\n",
    "plt.xticks(rotation=90)\n",
    "plt.xlabel(\"customer_state\")\n",
    "plt.ylabel(\"customers\")\n",
    "plt.title(\"count of customers statewise\")\n",
    "plt.show()"
   ]
  },
  {
   "cell_type": "markdown",
   "id": "731e0369-92b0-4947-82f9-0b6fad2cec4e",
   "metadata": {},
   "source": [
    "# Calculate the number of orders per month in 2018."
   ]
  },
  {
   "cell_type": "code",
   "execution_count": 156,
   "id": "f56e17b2-b239-4604-afeb-1f23f9d6edd0",
   "metadata": {},
   "outputs": [
    {
     "data": {
      "image/png": "[encoded data removed]",
      "text/plain": [
       "<Figure size 640x480 with 1 Axes>"
      ]
     },
     "metadata": {},
     "output_type": "display_data"
    }
   ],
   "source": [
    "query6=\"\"\" select monthname(order_purchase_timestamp) months,count(order_id) as order_count from orders where year(order_purchase_timestamp)=2018 group by monthname(order_purchase_timestamp)\"\"\"\n",
    "cur.execute(query6)\n",
    "data=cur.fetchall()\n",
    "df=pd.DataFrame(data,columns=[\"months\",\"order_count\"])\n",
    "#df\n",
    "o=[\"January\",\"February\",\"March\",\"April\",\"May\",\"June\",\"July\",\"August\",\"September\",\"October\"]\n",
    "sns.barplot(x=df[\"months\"],y=df[\"order_count\"],order=o,color=\"red\")\n",
    "#plt.figure(figsize=(8,3))\n",
    "plt.xticks(rotation=90)\n",
    "plt.title(\"count of order in 2018 monthly\")\n",
    "plt.show() \n"
   ]
  },
  {
   "cell_type": "markdown",
   "id": "b50ec00e-b51e-4711-9f7f-f28f2062d99a",
   "metadata": {},
   "source": [
    "# Find the average number of products per order, grouped by customer city."
   ]
  },
  {
   "cell_type": "code",
   "execution_count": 193,
   "id": "33f1fefa-1f56-4159-a0f4-c73cb7538255",
   "metadata": {},
   "outputs": [
    {
     "data": {
      "text/html": [
       "<div>\n",
       "<style scoped>\n",
       "    .dataframe tbody tr th:only-of-type {\n",
       "        vertical-align: middle;\n",
       "    }\n",
       "\n",
       "    .dataframe tbody tr th {\n",
       "        vertical-align: top;\n",
       "    }\n",
       "\n",
       "    .dataframe thead th {\n",
       "        text-align: right;\n",
       "    }\n",
       "</style>\n",
       "<table border=\"1\" class=\"dataframe\">\n",
       "  <thead>\n",
       "    <tr style=\"text-align: right;\">\n",
       "      <th></th>\n",
       "      <th>city</th>\n",
       "      <th>avg_order</th>\n",
       "    </tr>\n",
       "  </thead>\n",
       "  <tbody>\n",
       "    <tr>\n",
       "      <th>0</th>\n",
       "      <td>padre carvalho</td>\n",
       "      <td>7.00</td>\n",
       "    </tr>\n",
       "    <tr>\n",
       "      <th>1</th>\n",
       "      <td>celso ramos</td>\n",
       "      <td>6.50</td>\n",
       "    </tr>\n",
       "    <tr>\n",
       "      <th>2</th>\n",
       "      <td>datas</td>\n",
       "      <td>6.00</td>\n",
       "    </tr>\n",
       "    <tr>\n",
       "      <th>3</th>\n",
       "      <td>candido godoi</td>\n",
       "      <td>6.00</td>\n",
       "    </tr>\n",
       "    <tr>\n",
       "      <th>4</th>\n",
       "      <td>matias olimpio</td>\n",
       "      <td>5.00</td>\n",
       "    </tr>\n",
       "  </tbody>\n",
       "</table>\n",
       "</div>"
      ],
      "text/plain": [
       "             city avg_order\n",
       "0  padre carvalho      7.00\n",
       "1     celso ramos      6.50\n",
       "2           datas      6.00\n",
       "3   candido godoi      6.00\n",
       "4  matias olimpio      5.00"
      ]
     },
     "execution_count": 193,
     "metadata": {},
     "output_type": "execute_result"
    }
   ],
   "source": [
    "\n",
    "query7=\"\"\"with abc as (select orders.order_id, orders.customer_id,count(order_items.order_id) as oc\n",
    "from orders \n",
    "join order_items on orders.order_id=order_items.order_id\n",
    "group by orders.order_id, orders.customer_id)\n",
    "\n",
    "select customers.customer_city as city ,round(avg(abc.oc),2) as avg_order\n",
    "from customers \n",
    "join abc on customers.customer_id=abc.customer_id\n",
    "group by customers.customer_city\n",
    "order by avg_order desc\"\"\"\n",
    "\n",
    "cur.execute(query7)\n",
    "data=cur.fetchall()\n",
    "df=pd.DataFrame(data,columns=[\"city\",\"avg_order\"])\n",
    "df.head()"
   ]
  },
  {
   "cell_type": "markdown",
   "id": "a1b6bb75-5f58-4ca1-9e16-1b8a96a56373",
   "metadata": {},
   "source": [
    "# total revenue contributed by each product category."
   ]
  },
  {
   "cell_type": "code",
   "execution_count": 7,
   "id": "dc3e4089-51f7-4cf6-af8d-95089b2e598f",
   "metadata": {},
   "outputs": [
    {
     "data": {
      "text/html": [
       "<div>\n",
       "<style scoped>\n",
       "    .dataframe tbody tr th:only-of-type {\n",
       "        vertical-align: middle;\n",
       "    }\n",
       "\n",
       "    .dataframe tbody tr th {\n",
       "        vertical-align: top;\n",
       "    }\n",
       "\n",
       "    .dataframe thead th {\n",
       "        text-align: right;\n",
       "    }\n",
       "</style>\n",
       "<table border=\"1\" class=\"dataframe\">\n",
       "  <thead>\n",
       "    <tr style=\"text-align: right;\">\n",
       "      <th></th>\n",
       "      <th>category</th>\n",
       "      <th>revenue</th>\n",
       "    </tr>\n",
       "  </thead>\n",
       "  <tbody>\n",
       "    <tr>\n",
       "      <th>0</th>\n",
       "      <td>bed table bath</td>\n",
       "      <td>10.697529</td>\n",
       "    </tr>\n",
       "    <tr>\n",
       "      <th>1</th>\n",
       "      <td>HEALTH BEAUTY</td>\n",
       "      <td>10.352841</td>\n",
       "    </tr>\n",
       "    <tr>\n",
       "      <th>2</th>\n",
       "      <td>computer accessories</td>\n",
       "      <td>9.902824</td>\n",
       "    </tr>\n",
       "    <tr>\n",
       "      <th>3</th>\n",
       "      <td>Furniture Decoration</td>\n",
       "      <td>8.933649</td>\n",
       "    </tr>\n",
       "    <tr>\n",
       "      <th>4</th>\n",
       "      <td>Watches present</td>\n",
       "      <td>8.927654</td>\n",
       "    </tr>\n",
       "  </tbody>\n",
       "</table>\n",
       "</div>"
      ],
      "text/plain": [
       "               category    revenue\n",
       "0        bed table bath  10.697529\n",
       "1         HEALTH BEAUTY  10.352841\n",
       "2  computer accessories   9.902824\n",
       "3  Furniture Decoration   8.933649\n",
       "4       Watches present   8.927654"
      ]
     },
     "execution_count": 7,
     "metadata": {},
     "output_type": "execute_result"
    }
   ],
   "source": [
    "query8=\"\"\"select products.product_category,\n",
    "sum(payments.payment_value)/(select sum(payment_value) from payments)*100 as per_revenue\n",
    "from products\n",
    "join order_items on products.product_id=order_items.product_id\n",
    "join  payments on order_items.order_id=payments.order_id\n",
    "group by products.product_category\n",
    "order by per_revenue desc\"\"\"\n",
    "\n",
    "cur.execute(query8)\n",
    "data=cur.fetchall()\n",
    "df=pd.DataFrame(data,columns=[\"category\",\"revenue\"])\n",
    "df.head()"
   ]
  },
  {
   "cell_type": "markdown",
   "id": "5009744c-0868-4a36-80b0-8b5d923c388b",
   "metadata": {},
   "source": [
    "#  Identify the correlation between avg product price and the number of times a product purchase categorywise has been purchased."
   ]
  },
  {
   "cell_type": "code",
   "execution_count": 33,
   "id": "0abcd6de-e99b-4fff-bc0f-7b9b94eded90",
   "metadata": {},
   "outputs": [
    {
     "name": "stdout",
     "output_type": "stream",
     "text": [
      "correlation between count of purchase and average price -0.10631552237549534\n"
     ]
    }
   ],
   "source": [
    "import numpy\n",
    "query9=\"\"\"select p.product_category,count(ot.product_id),avg(ot.price)\n",
    "from order_items ot \n",
    "join products p on ot.product_id=p.product_id\n",
    "group by p.product_category\"\"\"\n",
    "\n",
    "cur.execute(query9)\n",
    "data=cur.fetchall()\n",
    "data\n",
    "df=pd.DataFrame(data,columns=[\"category\",\"count\",\"avg_price\"])\n",
    "arr1=df[\"count\"]\n",
    "arr2=df[\"avg_price\"]\n",
    "\n",
    "np1=numpy.corrcoef([arr1,arr2])\n",
    "print(\"correlation between count of purchase and average price\",np1[0][1]) "
   ]
  },
  {
   "cell_type": "markdown",
   "id": "22ebc235-25aa-42be-a21c-32de366cecbb",
   "metadata": {},
   "source": [
    "# Calculate the total revenue generated by each seller, and rank them by revenue."
   ]
  },
  {
   "cell_type": "code",
   "execution_count": 43,
   "id": "2d391970-7ac0-4e83-9c84-8918e72d63f0",
   "metadata": {},
   "outputs": [
    {
     "data": {
      "image/png": "[encoded data removed]",
      "text/plain": [
       "<Figure size 640x480 with 1 Axes>"
      ]
     },
     "metadata": {},
     "output_type": "display_data"
    }
   ],
   "source": [
    "query10=\"\"\"select * ,dense_rank() over(order by total desc) as rnk from (select ot.seller_id,round(sum(py.payment_value)) as total\n",
    "from order_items ot\n",
    "join payments py on ot.order_id=py.order_id\n",
    "group by ot.seller_id) as a\"\"\"\n",
    "\n",
    "cur.execute(query10)\n",
    "data=cur.fetchall()\n",
    "df=pd.DataFrame(data,columns=[\"seller_id\",\"revenue\",\"rank\"])\n",
    "df=df.head()\n",
    "sns.barplot(x= \"seller_id\",y = \"revenue\", data = df)\n",
    "plt.xticks(rotation=90)\n",
    "plt.show()            \n",
    "            "
   ]
  },
  {
   "cell_type": "markdown",
   "id": "32055bcc-79e1-4d1a-b650-b9268dacc5a4",
   "metadata": {},
   "source": [
    "# Calculate the moving average of order values for each customer over their order history."
   ]
  },
  {
   "cell_type": "code",
   "execution_count": 52,
   "id": "67badb1a-aa1a-4f0c-90c3-92222599a586",
   "metadata": {},
   "outputs": [
    {
     "data": {
      "text/html": [
       "<div>\n",
       "<style scoped>\n",
       "    .dataframe tbody tr th:only-of-type {\n",
       "        vertical-align: middle;\n",
       "    }\n",
       "\n",
       "    .dataframe tbody tr th {\n",
       "        vertical-align: top;\n",
       "    }\n",
       "\n",
       "    .dataframe thead th {\n",
       "        text-align: right;\n",
       "    }\n",
       "</style>\n",
       "<table border=\"1\" class=\"dataframe\">\n",
       "  <thead>\n",
       "    <tr style=\"text-align: right;\">\n",
       "      <th></th>\n",
       "      <th>customer_id</th>\n",
       "      <th>timestamp</th>\n",
       "      <th>payment</th>\n",
       "      <th>moving_avg</th>\n",
       "    </tr>\n",
       "  </thead>\n",
       "  <tbody>\n",
       "    <tr>\n",
       "      <th>0</th>\n",
       "      <td>00012a2ce6f8dcda20d059ce98491703</td>\n",
       "      <td>2017-11-14 16:08:26</td>\n",
       "      <td>114.74</td>\n",
       "      <td>114.739998</td>\n",
       "    </tr>\n",
       "    <tr>\n",
       "      <th>1</th>\n",
       "      <td>000161a058600d5901f007fab4c27140</td>\n",
       "      <td>2017-07-16 09:40:32</td>\n",
       "      <td>67.41</td>\n",
       "      <td>67.410004</td>\n",
       "    </tr>\n",
       "    <tr>\n",
       "      <th>2</th>\n",
       "      <td>0001fd6190edaaf884bcaf3d49edf079</td>\n",
       "      <td>2017-02-28 11:06:43</td>\n",
       "      <td>195.42</td>\n",
       "      <td>195.419998</td>\n",
       "    </tr>\n",
       "    <tr>\n",
       "      <th>3</th>\n",
       "      <td>0002414f95344307404f0ace7a26f1d5</td>\n",
       "      <td>2017-08-16 13:09:20</td>\n",
       "      <td>179.35</td>\n",
       "      <td>179.350006</td>\n",
       "    </tr>\n",
       "    <tr>\n",
       "      <th>4</th>\n",
       "      <td>000379cdec625522490c315e70c7a9fb</td>\n",
       "      <td>2018-04-02 13:42:17</td>\n",
       "      <td>107.01</td>\n",
       "      <td>107.010002</td>\n",
       "    </tr>\n",
       "    <tr>\n",
       "      <th>5</th>\n",
       "      <td>0004164d20a9e969af783496f3408652</td>\n",
       "      <td>2017-04-12 08:35:12</td>\n",
       "      <td>71.80</td>\n",
       "      <td>71.800003</td>\n",
       "    </tr>\n",
       "    <tr>\n",
       "      <th>6</th>\n",
       "      <td>000419c5494106c306a97b5635748086</td>\n",
       "      <td>2018-03-02 17:47:40</td>\n",
       "      <td>49.40</td>\n",
       "      <td>49.400002</td>\n",
       "    </tr>\n",
       "    <tr>\n",
       "      <th>7</th>\n",
       "      <td>00046a560d407e99b969756e0b10f282</td>\n",
       "      <td>2017-12-18 11:08:30</td>\n",
       "      <td>166.59</td>\n",
       "      <td>166.589996</td>\n",
       "    </tr>\n",
       "    <tr>\n",
       "      <th>8</th>\n",
       "      <td>00050bf6e01e69d5c0fd612f1bcfb69c</td>\n",
       "      <td>2017-09-17 16:04:44</td>\n",
       "      <td>85.23</td>\n",
       "      <td>85.230003</td>\n",
       "    </tr>\n",
       "    <tr>\n",
       "      <th>9</th>\n",
       "      <td>000598caf2ef4117407665ac33275130</td>\n",
       "      <td>2018-08-11 12:14:35</td>\n",
       "      <td>1255.71</td>\n",
       "      <td>1255.709961</td>\n",
       "    </tr>\n",
       "  </tbody>\n",
       "</table>\n",
       "</div>"
      ],
      "text/plain": [
       "                        customer_id            timestamp  payment   moving_avg\n",
       "0  00012a2ce6f8dcda20d059ce98491703  2017-11-14 16:08:26   114.74   114.739998\n",
       "1  000161a058600d5901f007fab4c27140  2017-07-16 09:40:32    67.41    67.410004\n",
       "2  0001fd6190edaaf884bcaf3d49edf079  2017-02-28 11:06:43   195.42   195.419998\n",
       "3  0002414f95344307404f0ace7a26f1d5  2017-08-16 13:09:20   179.35   179.350006\n",
       "4  000379cdec625522490c315e70c7a9fb  2018-04-02 13:42:17   107.01   107.010002\n",
       "5  0004164d20a9e969af783496f3408652  2017-04-12 08:35:12    71.80    71.800003\n",
       "6  000419c5494106c306a97b5635748086  2018-03-02 17:47:40    49.40    49.400002\n",
       "7  00046a560d407e99b969756e0b10f282  2017-12-18 11:08:30   166.59   166.589996\n",
       "8  00050bf6e01e69d5c0fd612f1bcfb69c  2017-09-17 16:04:44    85.23    85.230003\n",
       "9  000598caf2ef4117407665ac33275130  2018-08-11 12:14:35  1255.71  1255.709961"
      ]
     },
     "execution_count": 52,
     "metadata": {},
     "output_type": "execute_result"
    }
   ],
   "source": [
    "query11=\"\"\"select customer_id, order_purchase_timestamp,payment,\n",
    "avg (payment) over( partition by customer_id order by order_purchase_timestamp \n",
    "rows between 2 preceding and current row) as mov_avg\n",
    "from (select orders.customer_id,orders.order_purchase_timestamp,payments.payment_value as payment\n",
    "from payments \n",
    "join orders on payments.order_id=orders.order_id) as a\"\"\"\n",
    "\n",
    "cur.execute(query11)\n",
    "data=cur.fetchall()\n",
    "data\n",
    "df=pd.DataFrame(data,columns=[\"customer_id\",\"timestamp\",\"payment\",\"moving_avg\"])\n",
    "df.head(10)"
   ]
  },
  {
   "cell_type": "markdown",
   "id": "f00ed683-3dbe-4e62-8496-8b784d8fa592",
   "metadata": {},
   "source": [
    "# Calculate the cumulative sales per month for each year."
   ]
  },
  {
   "cell_type": "code",
   "execution_count": 59,
   "id": "0699e3ea-ba71-4d31-95a0-5590ff1ad0c0",
   "metadata": {},
   "outputs": [
    {
     "data": {
      "text/html": [
       "<div>\n",
       "<style scoped>\n",
       "    .dataframe tbody tr th:only-of-type {\n",
       "        vertical-align: middle;\n",
       "    }\n",
       "\n",
       "    .dataframe tbody tr th {\n",
       "        vertical-align: top;\n",
       "    }\n",
       "\n",
       "    .dataframe thead th {\n",
       "        text-align: right;\n",
       "    }\n",
       "</style>\n",
       "<table border=\"1\" class=\"dataframe\">\n",
       "  <thead>\n",
       "    <tr style=\"text-align: right;\">\n",
       "      <th></th>\n",
       "      <th>year</th>\n",
       "      <th>month</th>\n",
       "      <th>payment</th>\n",
       "      <th>cumulative total</th>\n",
       "    </tr>\n",
       "  </thead>\n",
       "  <tbody>\n",
       "    <tr>\n",
       "      <th>0</th>\n",
       "      <td>2016</td>\n",
       "      <td>9</td>\n",
       "      <td>252.0</td>\n",
       "      <td>252.0</td>\n",
       "    </tr>\n",
       "    <tr>\n",
       "      <th>1</th>\n",
       "      <td>2016</td>\n",
       "      <td>10</td>\n",
       "      <td>59090.0</td>\n",
       "      <td>59342.0</td>\n",
       "    </tr>\n",
       "    <tr>\n",
       "      <th>2</th>\n",
       "      <td>2016</td>\n",
       "      <td>12</td>\n",
       "      <td>20.0</td>\n",
       "      <td>59362.0</td>\n",
       "    </tr>\n",
       "    <tr>\n",
       "      <th>3</th>\n",
       "      <td>2017</td>\n",
       "      <td>1</td>\n",
       "      <td>138488.0</td>\n",
       "      <td>197850.0</td>\n",
       "    </tr>\n",
       "    <tr>\n",
       "      <th>4</th>\n",
       "      <td>2017</td>\n",
       "      <td>2</td>\n",
       "      <td>291908.0</td>\n",
       "      <td>489758.0</td>\n",
       "    </tr>\n",
       "    <tr>\n",
       "      <th>5</th>\n",
       "      <td>2017</td>\n",
       "      <td>3</td>\n",
       "      <td>449864.0</td>\n",
       "      <td>939622.0</td>\n",
       "    </tr>\n",
       "    <tr>\n",
       "      <th>6</th>\n",
       "      <td>2017</td>\n",
       "      <td>4</td>\n",
       "      <td>417788.0</td>\n",
       "      <td>1357410.0</td>\n",
       "    </tr>\n",
       "    <tr>\n",
       "      <th>7</th>\n",
       "      <td>2017</td>\n",
       "      <td>5</td>\n",
       "      <td>592919.0</td>\n",
       "      <td>1950329.0</td>\n",
       "    </tr>\n",
       "    <tr>\n",
       "      <th>8</th>\n",
       "      <td>2017</td>\n",
       "      <td>6</td>\n",
       "      <td>511276.0</td>\n",
       "      <td>2461605.0</td>\n",
       "    </tr>\n",
       "    <tr>\n",
       "      <th>9</th>\n",
       "      <td>2017</td>\n",
       "      <td>7</td>\n",
       "      <td>592383.0</td>\n",
       "      <td>3053988.0</td>\n",
       "    </tr>\n",
       "  </tbody>\n",
       "</table>\n",
       "</div>"
      ],
      "text/plain": [
       "   year  month   payment  cumulative total\n",
       "0  2016      9     252.0             252.0\n",
       "1  2016     10   59090.0           59342.0\n",
       "2  2016     12      20.0           59362.0\n",
       "3  2017      1  138488.0          197850.0\n",
       "4  2017      2  291908.0          489758.0\n",
       "5  2017      3  449864.0          939622.0\n",
       "6  2017      4  417788.0         1357410.0\n",
       "7  2017      5  592919.0         1950329.0\n",
       "8  2017      6  511276.0         2461605.0\n",
       "9  2017      7  592383.0         3053988.0"
      ]
     },
     "execution_count": 59,
     "metadata": {},
     "output_type": "execute_result"
    }
   ],
   "source": [
    "query12=\"\"\"select yr , mont ,payment , sum(payment) over( order by yr, mont) as cumulative_sum from\n",
    "(select year(o.order_purchase_timestamp) as yr, month(o.order_purchase_timestamp) as mont, round(sum( p.payment_value)) as payment\n",
    "from orders o\n",
    "join payments p on o.order_id=p.order_id\n",
    "group by year(o.order_purchase_timestamp), month(o.order_purchase_timestamp) \n",
    "order by yr,mont) as a\"\"\"\n",
    "\n",
    "cur.execute(query12)\n",
    "data=cur.fetchall()\n",
    "data\n",
    "df=pd.DataFrame(data,columns=[\"year\",\"month\",\"payment\",\"cumulative total\"])\n",
    "df.head(10)"
   ]
  },
  {
   "cell_type": "code",
   "execution_count": null,
   "id": "41920721-20a7-4e92-a77d-f36a25fcd553",
   "metadata": {},
   "outputs": [],
   "source": []
  }
 ],
 "metadata": {
  "kernelspec": {
   "display_name": "Python 3 (ipykernel)",
   "language": "python",
   "name": "python3"
  },
  "language_info": {
   "codemirror_mode": {
    "name": "ipython",
    "version": 3
   },
   "file_extension": ".py",
   "mimetype": "text/x-python",
   "name": "python",
   "nbconvert_exporter": "python",
   "pygments_lexer": "ipython3",
   "version": "3.12.7"
  }
 },
 "nbformat": 4,
 "nbformat_minor": 5
}
